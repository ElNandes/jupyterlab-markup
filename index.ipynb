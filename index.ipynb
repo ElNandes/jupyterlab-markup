{
 "cells": [
  {
   "cell_type": "markdown",
   "metadata": {},
   "source": [
    "## Table of Contents\n",
    "\n",
    "| plugin...                  | provides...                             |\n",
    "|----------------------------|-----------------------------------------|\n",
    "| `markdown-it-anchor`       | header anchors                          |\n",
    "| `markdown-it-diagrams`     | [diagrams](#diagrams)                   |\n",
    "| `markdown-it-deflist`      | [definition lists](#definition-lists)   |\n",
    "| `markdown-it-footnote`     | [footnotes](#footnotes)                 |\n",
    "| `markdown-it-replace-link` | link replacement                        |\n",
    "| `markdown-it-task-lists`   | [task lists](#task-lists)               |"
   ]
  },
  {
   "cell_type": "markdown",
   "metadata": {},
   "source": [
    "## Definition Lists\n",
    "\n",
    "\n",
    "Term 1\n",
    "  ~ Definition 1\n",
    "\n",
    "Term 2\n",
    "  ~ Definition 2a\n",
    "  ~ Definition 2b"
   ]
  },
  {
   "cell_type": "markdown",
   "metadata": {},
   "source": [
    "## Diagrams"
   ]
  },
  {
   "cell_type": "markdown",
   "metadata": {},
   "source": [
    "### Mermaid"
   ]
  },
  {
   "cell_type": "markdown",
   "metadata": {},
   "source": [
    "```mermaid \n",
    "graph TD;\n",
    "    A-->B;\n",
    "    A-->C;\n",
    "    B-->D;\n",
    "    C-->D;\n",
    "```"
   ]
  },
  {
   "cell_type": "markdown",
   "metadata": {},
   "source": [
    "### svgbob"
   ]
  },
  {
   "cell_type": "markdown",
   "metadata": {},
   "source": [
    "```bob \n",
    "     .---.\n",
    "    /-o-/--\n",
    " .-/ / /->\n",
    "( *  \\/\n",
    " '-.  \\\n",
    "    \\ /\n",
    "     '\n",
    "```"
   ]
  },
  {
   "cell_type": "markdown",
   "metadata": {},
   "source": [
    "## Footnotes"
   ]
  },
  {
   "cell_type": "markdown",
   "metadata": {},
   "source": [
    "Here is a footnote reference,[^1] and another.[^longnote]\n",
    "\n",
    "[^1]: Here is the footnote.\n",
    "\n",
    "[^longnote]: Here's one with multiple blocks.\n",
    "\n",
    "    Subsequent paragraphs are indented to show that they\n",
    "belong to the previous footnote."
   ]
  },
  {
   "cell_type": "markdown",
   "metadata": {},
   "source": [
    "## Task Lists\n",
    "\n",
    "- [x] done\n",
    "- [ ] not done"
   ]
  }
 ],
 "metadata": {
  "kernelspec": {
   "display_name": "Python 3",
   "language": "python",
   "name": "python3"
  },
  "language_info": {
   "codemirror_mode": {
    "name": "ipython",
    "version": 3
   },
   "file_extension": ".py",
   "mimetype": "text/x-python",
   "name": "python",
   "nbconvert_exporter": "python",
   "pygments_lexer": "ipython3",
   "version": "3.7.8"
  }
 },
 "nbformat": 4,
 "nbformat_minor": 4
}
